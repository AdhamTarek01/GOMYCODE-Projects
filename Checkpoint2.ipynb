{
  "nbformat": 4,
  "nbformat_minor": 0,
  "metadata": {
    "colab": {
      "provenance": []
    },
    "kernelspec": {
      "name": "python3",
      "display_name": "Python 3"
    },
    "language_info": {
      "name": "python"
    }
  },
  "cells": [
    {
      "cell_type": "code",
      "execution_count": null,
      "metadata": {
        "id": "DO68JAPcSSxU"
      },
      "outputs": [],
      "source": [
        "#Question 1\n",
        "x=[2,3,6]\n",
        "sum=1\n",
        "i=0\n",
        "while i < len(x):\n",
        "    sum=sum*x[i]\n",
        "    i+=1\n",
        "print(sum)"
      ]
    },
    {
      "cell_type": "code",
      "source": [
        "#Question 3\n",
        "d1={'a': 100, 'b': 200, 'c': 300}\n",
        "d2={'a': 300, 'b': 200, 'c': 400}\n",
        "for key in d1:\n",
        "    if d1.keys() == d2.keys():\n",
        "        result ={ key: d1.get(key, 0)+ d2.get(key, 0) for key in set(d1) | set(d2)}\n",
        "print(result)"
      ],
      "metadata": {
        "id": "iJqf0M-PZ5xt"
      },
      "execution_count": null,
      "outputs": []
    },
    {
      "cell_type": "code",
      "source": [
        "#Question 4\n",
        "x=int(input(\"Enter your number\\n\"))\n",
        "dict={}\n",
        "i=1\n",
        "while i<=x:\n",
        "    dict.update({i:i*i})\n",
        "    i+=1\n",
        "print(dict)"
      ],
      "metadata": {
        "id": "cTCu4ZKZbc0z"
      },
      "execution_count": null,
      "outputs": []
    }
  ]
}