{
  "nbformat": 4,
  "nbformat_minor": 0,
  "metadata": {
    "colab": {
      "provenance": []
    },
    "kernelspec": {
      "name": "python3",
      "display_name": "Python 3"
    },
    "language_info": {
      "name": "python"
    }
  },
  "cells": [
    {
      "cell_type": "code",
      "execution_count": null,
      "metadata": {
        "id": "6d04x_3Hr75Z"
      },
      "outputs": [],
      "source": [
        "#Question 1\n",
        "x=input(\"Enter First name\\n\")\n",
        "y=input(\"Enter Last name\\n\")\n",
        "i=1\n",
        "while i <= len(x):\n",
        "    print(x[-i], end=\"\")\n",
        "    i+=1\n",
        "print(\" \", end=\"\")\n",
        "i=1\n",
        "while i <= len(y):\n",
        "    print(y[-i], end=\"\")\n",
        "    i+=1"
      ]
    },
    {
      "cell_type": "code",
      "source": [
        "#Question 2\n",
        "x = int(input('Enter your number\\n'))\n",
        "print(x+(11*x)+(111*x))"
      ],
      "metadata": {
        "id": "YMR6jB-nwpUE"
      },
      "execution_count": null,
      "outputs": []
    },
    {
      "cell_type": "code",
      "source": [
        "#Question 3\n",
        "x=int(input(\"Enter your number\\n\"))\n",
        "if x == 0:\n",
        "    print(\"0 is neither even nor odd\")\n",
        "elif x % 2 == 0:\n",
        "    print(\"Number is even\")\n",
        "else:\n",
        "    print(\"Number is odd\")"
      ],
      "metadata": {
        "id": "KNTVNp3L0KQP"
      },
      "execution_count": null,
      "outputs": []
    },
    {
      "cell_type": "code",
      "source": [
        "#Question 4\n",
        "for i in range(2000,3200):\n",
        "    if i % 5 ==0:\n",
        "        continue;\n",
        "    if i % 7 == 0:\n",
        "        print(i, end=' ')"
      ],
      "metadata": {
        "id": "vvbzYBch1Phn"
      },
      "execution_count": null,
      "outputs": []
    },
    {
      "cell_type": "code",
      "source": [
        "#Question 5\n",
        "x=int(input(\"Enter your number\\n\"))\n",
        "sum=1\n",
        "while x>0:\n",
        "    sum=sum*x\n",
        "    x-=1\n",
        "print(sum)"
      ],
      "metadata": {
        "id": "0zEeAYpQ3J-C"
      },
      "execution_count": null,
      "outputs": []
    },
    {
      "cell_type": "code",
      "source": [
        "#Question 6\n",
        "\n",
        "x=str(input(\"Enter the sentence\\n\"))\n",
        "for i in range( 0 , len(x) ):\n",
        "    if i%2==0:\n",
        "        print(x[i],end='')\n",
        "    else:\n",
        "        continue;"
      ],
      "metadata": {
        "id": "2zM-ObOU31bI"
      },
      "execution_count": null,
      "outputs": []
    },
    {
      "cell_type": "code",
      "source": [
        "#Question 7\n",
        "price=int(input(\"Enter the price: \"))\n",
        "if price>500:\n",
        "    print(price*0.5)\n",
        "elif price>=200 and price<500:\n",
        "    print(price*0.7) #1-0.3=0.7\n",
        "else:\n",
        "    print(price*0.9) #1-0.1=0.9"
      ],
      "metadata": {
        "id": "b72fJoV65Nkm"
      },
      "execution_count": null,
      "outputs": []
    }
  ]
}