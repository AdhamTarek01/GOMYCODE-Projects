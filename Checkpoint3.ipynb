{
  "nbformat": 4,
  "nbformat_minor": 0,
  "metadata": {
    "colab": {
      "provenance": []
    },
    "kernelspec": {
      "name": "python3",
      "display_name": "Python 3"
    },
    "language_info": {
      "name": "python"
    }
  },
  "cells": [
    {
      "cell_type": "code",
      "execution_count": null,
      "metadata": {
        "id": "kZldI0ogYzL-"
      },
      "outputs": [],
      "source": [
        "#Question 1\n",
        "def max(a,b,c):\n",
        "    if a>b and a>c:\n",
        "        print(a)\n",
        "    elif b>a and b>c:\n",
        "        print(b)\n",
        "    elif c>a and c>b:\n",
        "        print(c)\n",
        "x=int(input(\"Enter your 1st number: \"))\n",
        "y=int(input(\"Enter your 2nd number: \"))\n",
        "z=int(input(\"Enter your 3rd number: \"))\n",
        "max(x,y,z)"
      ]
    },
    {
      "cell_type": "code",
      "source": [
        "#Question 2\n",
        "def calculation(a,b):\n",
        "    return a + b, a - b\n",
        "calculation(40,10)"
      ],
      "metadata": {
        "id": "cjD1QG1wZetB"
      },
      "execution_count": null,
      "outputs": []
    },
    {
      "cell_type": "code",
      "source": [
        "#Question 4\n",
        "def sorting():\n",
        "  ls=[]\n",
        "  x=str(input(\"Enter words and separate them with - \\n\"))\n",
        "  ls.append(x.split('-'))\n",
        "  ls.sort()\n",
        "  print(ls)\n",
        "sorting()  "
      ],
      "metadata": {
        "id": "4-7RNcnPaoGG"
      },
      "execution_count": null,
      "outputs": []
    }
  ]
}